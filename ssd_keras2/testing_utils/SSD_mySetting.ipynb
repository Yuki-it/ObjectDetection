{
 "cells": [
  {
   "cell_type": "code",
   "execution_count": 4,
   "metadata": {
    "scrolled": true
   },
   "outputs": [],
   "source": [
    "import os\n",
    "import keras\n",
    "import pickle\n",
    "from video_mytest import VideoTest\n",
    "\n",
    "import sys\n",
    "sys.path.append(\"..\")\n",
    "from ssd import SSD300 as SSD\n",
    "\n",
    "input_shape = (512,512,3)\n",
    "\n",
    "# Change this if you run with other classes than VOC\n",
    "class_names = [\"background\", \"aeroplane\", \"bicycle\", \"bird\", \"boat\", \"bottle\", \"bus\", \"car\", \"cat\", \"chair\", \"cow\", \"diningtable\", \"dog\", \"horse\", \"motorbike\", \"person\", \"pottedplant\", \"sheep\", \"sofa\", \"train\", \"tvmonitor\"];\n",
    "#class_names = [ \"bicycle\", \"bus\", \"car\",  \"dog\", \"horse\", \"motorbike\", \"person\",  \"train\"];\n",
    "NUM_CLASSES = len(class_names)\n",
    "\n",
    "model = SSD(input_shape, num_classes=NUM_CLASSES)\n",
    "\n",
    "# Change this path if you want to use your own trained weights\n",
    "model.load_weights('../weights_SSD300.hdf5') \n",
    "        \n",
    "vid_test = VideoTest(class_names, model, input_shape)\n",
    "\n",
    "# To test on webcam 0, remove the parameter (or change it to another number\n",
    "# to test on that webcam)\n",
    "mainPATH    = 'C:\\\\Users\\\\yukir\\\\workspace\\\\opencv_work'\n",
    "subMainPATH = os.path.join(mainPATH,'Vehicle-And-Pedestrian-Detection-Using-Haar-Cascades\\\\Main Project\\\\Main Project')\n",
    "\n",
    "car_person  = os.path.join(mainPATH,'car_person.mp4')\n",
    "pedestrians = os.path.join(subMainPATH,'Pedestrian Detection\\\\pedestrians.avi')\n",
    "carVideo1   = os.path.join(subMainPATH,'Car Detection\\\\video.avi')\n",
    "carVideo2   = os.path.join(subMainPATH,'Car Detection\\\\video1.avi')\n",
    "BusVideo    = os.path.join(subMainPATH,'Bus Detection\\\\bus1.mp4')\n",
    "BikeVideo   = os.path.join(subMainPATH,'Bike Detection\\\\two_wheeler2.mp4')\n",
    "\n",
    "vid_test.run(car_person,16000,0.5)\n"
   ]
  },
  {
   "cell_type": "code",
   "execution_count": null,
   "metadata": {},
   "outputs": [],
   "source": []
  }
 ],
 "metadata": {
  "kernelspec": {
   "display_name": "Python 3",
   "language": "python",
   "name": "python3"
  },
  "language_info": {
   "codemirror_mode": {
    "name": "ipython",
    "version": 3
   },
   "file_extension": ".py",
   "mimetype": "text/x-python",
   "name": "python",
   "nbconvert_exporter": "python",
   "pygments_lexer": "ipython3",
   "version": "3.7.7"
  }
 },
 "nbformat": 4,
 "nbformat_minor": 4
}
