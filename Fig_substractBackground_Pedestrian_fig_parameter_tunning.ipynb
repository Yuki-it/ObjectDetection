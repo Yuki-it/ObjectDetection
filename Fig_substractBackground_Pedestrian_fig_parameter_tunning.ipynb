{
 "cells": [
  {
   "cell_type": "markdown",
   "metadata": {},
   "source": [
    "# 歩行者"
   ]
  },
  {
   "cell_type": "code",
   "execution_count": 25,
   "metadata": {},
   "outputs": [
    {
     "name": "stdout",
     "output_type": "stream",
     "text": [
      "True\n"
     ]
    }
   ],
   "source": [
    "import cv2\n",
    "import os\n",
    "\n",
    "# 分類器ディレクトリ(以下から取得)\n",
    "\n",
    "common_path = 'C:\\\\Users\\\\yukir\\\\anaconda3\\\\envs\\\\opencv\\\\Lib\\\\site-packages\\\\cv2\\\\data'\n",
    "pedestrianPath='C:\\\\Users\\\\yukir\\\\workspace\\\\opencv_work\\\\Vehicle-And-Pedestrian-Detection-Using-Haar-Cascades\\\\Main Project\\\\Main Project\\\\Pedestrian Detection'\n",
    "\n",
    "#person_cascade = cv2.CascadeClassifier(os.path.join(common_path,'haarcascade_fullbody.xml')) \n",
    "person_cascade = cv2.CascadeClassifier(os.path.join(pedestrianPath,'pedestrian.xml')) \n",
    "# 使用ファイルと入出力ディレクトリ\n",
    "\n",
    "image_path = os.path.join(pedestrianPath,\"pedestrian2_Moment.jpg\")\n",
    "output_path =os.path.join(pedestrianPath, \".\\\\outputs\\\\\") + \"test2.jpg\"\n",
    "\n",
    "# ディレクトリ確認用(うまく行かなかった時用)\n",
    "#import os\n",
    "print(os.path.exists(image_path))\n",
    "\n",
    "#ファイル読み込み\n",
    "image = cv2.imread(image_path)\n",
    "\n",
    "#グレースケール変換or MOG or MOG2 or GMG\n",
    "image_gray = cv2.cvtColor(image, cv2.COLOR_BGR2GRAY)\n",
    "#fgbg = cv2.createBackgroundSubtractorKNN()\n",
    "#image_gray = fgbg.apply(image)\n",
    "\n",
    "#物体認識（顔認識）の実行\n",
    "#image – CV_8U 型の行列．ここに格納されている画像中から物体が検出されます\n",
    "#objects – 矩形を要素とするベクトル．それぞれの矩形は，検出した物体を含みます\n",
    "#scaleFactor – 各画像スケールにおける縮小量を表します\n",
    "#minNeighbors – 物体候補となる矩形は，最低でもこの数だけの近傍矩形を含む必要があります\n",
    "#flags – このパラメータは，新しいカスケードでは利用されません．古いカスケードに対しては，cvHaarDetectObjects 関数の場合と同じ意味を持ちます\n",
    "#minSize – 物体が取り得る最小サイズ．これよりも小さい物体は無視されます\n",
    "facerect = person_cascade.detectMultiScale(image_gray, scaleFactor=1.1, minNeighbors=2, minSize=(30,30))\n",
    "\n",
    "#print(facerect)\n",
    "color = (255, 255, 255) #白\n",
    "\n",
    "# 検出した場合\n",
    "\n",
    "\n",
    "#検出した顔を囲む矩形の作成\n",
    "for rect in facerect:\n",
    "    cv2.rectangle(image, tuple(rect[0:2]),tuple(rect[0:2]+rect[2:4]), color, thickness=2)\n",
    "        \n",
    "# Display frames in a window  \n",
    "cv2.imshow('test', image) \n",
    "cv2.waitKey()\n",
    "#認識結果の保存\n",
    "#cv2.imwrite(output_path, image)\n",
    "\n",
    "cv2.destroyAllWindows()    "
   ]
  },
  {
   "cell_type": "markdown",
   "metadata": {},
   "source": [
    "# car"
   ]
  },
  {
   "cell_type": "code",
   "execution_count": 18,
   "metadata": {},
   "outputs": [
    {
     "name": "stdout",
     "output_type": "stream",
     "text": [
      "True\n"
     ]
    }
   ],
   "source": [
    "import cv2\n",
    "import os\n",
    "\n",
    "# 分類器ディレクトリ(以下から取得)\n",
    "\n",
    "common_path = 'C:\\\\Users\\\\yukir\\\\anaconda3\\\\envs\\\\opencv\\\\Lib\\\\site-packages\\\\cv2\\\\data'\n",
    "carPath='C:\\\\Users\\\\yukir\\\\workspace\\\\opencv_work\\\\Vehicle-And-Pedestrian-Detection-Using-Haar-Cascades\\\\Main Project\\\\Main Project\\\\Car Detection'\n",
    "\n",
    "#person_cascade = cv2.CascadeClassifier(os.path.join(common_path,'haarcascade_fullbody.xml')) \n",
    "person_cascade = cv2.CascadeClassifier(os.path.join(carPath,'cars.xml')) \n",
    "# 使用ファイルと入出力ディレクトリ\n",
    "\n",
    "image_path = os.path.join(pedestrianPath,\"video_Moment.jpg\")\n",
    "output_path =os.path.join(pedestrianPath, \".\\\\outputs\\\\\") + \"test.jpg\"\n",
    "\n",
    "# ディレクトリ確認用(うまく行かなかった時用)\n",
    "#import os\n",
    "print(os.path.exists(image_path))\n",
    "\n",
    "#ファイル読み込み\n",
    "image = cv2.imread(image_path)\n",
    "\n",
    "#グレースケール変換or MOG or MOG2 or GMG\n",
    "image_gray = cv2.cvtColor(image, cv2.COLOR_BGR2GRAY)\n",
    "#fgbg = cv2.createBackgroundSubtractorKNN()\n",
    "#image_gray = fgbg.apply(image)\n",
    "\n",
    "#物体認識（顔認識）の実行\n",
    "#image – CV_8U 型の行列．ここに格納されている画像中から物体が検出されます\n",
    "#objects – 矩形を要素とするベクトル．それぞれの矩形は，検出した物体を含みます\n",
    "#scaleFactor – 各画像スケールにおける縮小量を表します\n",
    "#minNeighbors – 物体候補となる矩形qは，最低でもこの数だけの近傍矩形を含む必要があります\n",
    "#flags – このパラメータは，新しいカスケードでは利用されません．古いカスケードに対しては，cvHaarDetectObjects 関数の場合と同じ意味を持ちます\n",
    "#minSize – 物体が取り得る最小サイズ．これよりも小さい物体は無視されます\n",
    "facerect = person_cascade.detectMultiScale(image_gray, scaleFactor=1.08, minNeighbors=2, minSize=(30,30))\n",
    "\n",
    "#print(facerect)\n",
    "color = (255, 255, 255) #白\n",
    "\n",
    "# 検出した場合\n",
    "\n",
    "\n",
    "#検出した顔を囲む矩形の作成\n",
    "for rect in facerect:\n",
    "    cv2.rectangle(image, tuple(rect[0:2]),tuple(rect[0:2]+rect[2:4]), color, thickness=2)\n",
    "        \n",
    "# Display frames in a window  \n",
    "cv2.imshow('test', image) \n",
    "cv2.waitKey()\n",
    "#認識結果の保存\n",
    "#cv2.imwrite(output_path, image)\n",
    "\n",
    "cv2.destroyAllWindows()    "
   ]
  },
  {
   "cell_type": "code",
   "execution_count": null,
   "metadata": {},
   "outputs": [],
   "source": []
  },
  {
   "cell_type": "markdown",
   "metadata": {},
   "source": [
    "# 背景差分"
   ]
  },
  {
   "cell_type": "code",
   "execution_count": 13,
   "metadata": {},
   "outputs": [],
   "source": [
    "import cv2\n",
    "import numpy as np\n",
    "import os\n",
    " \n",
    "commom_path= \"C:\\\\Users\\\\yukir\\\\workspace\\\\opencv_work\\\\Vehicle-And-Pedestrian-Detection-Using-Haar-Cascades\\\\Main Project\\\\Main Project\\\\Pedestrian Detection\"\n",
    "    \n",
    "image_background_path = os.path.join(commom_path,\"background_image.png\")\n",
    "image_path            = os.path.join(commom_path,\"test_image.png\")\n",
    "output_dir            = os.path.join(pedestrianPath, \".\\\\outputs\") \n",
    "\n",
    "os.makedirs(output_dir, exist_ok=True)\n",
    "\n",
    "\n",
    "# 画像の読み込み 第2引き数を1:カラー,0:グレイスケール\n",
    "img_background = cv2.imread(image_background_path, 1)\n",
    "img_src        = cv2.imread(image_path, 1)\n",
    "\n",
    "# 手法の設定\n",
    "fgbgs_dict = {\n",
    "    'MOG' : cv2.bgsegm.createBackgroundSubtractorMOG(),\n",
    "    'LSBP' : cv2.bgsegm.createBackgroundSubtractorLSBP(),\n",
    "    'GMG' : cv2.bgsegm.createBackgroundSubtractorGMG(),\n",
    "    'GSOC' : cv2.bgsegm.createBackgroundSubtractorGSOC(),\n",
    "    'CNT' : cv2.bgsegm.createBackgroundSubtractorCNT(),\n",
    "    'MOG2' : cv2.createBackgroundSubtractorMOG2(),\n",
    "    'KNN' : cv2.createBackgroundSubtractorKNN()\n",
    "}\n",
    "\n",
    "for key in fgbgs_dict.keys():\n",
    "    \n",
    "    fgbg = fgbgs_dict[key]\n",
    "\n",
    "    # 背景差分実行\n",
    "    if key == 'GMG' or key == 'KNN' or key == 'CNT':\n",
    "        # GMG,KNN,CNTは背景のモデル構築に最初の数フレームを使用するため\n",
    "        if key == 'GMG': #120 + 1\n",
    "            frame = fgbg.getNumFrames() + 1\n",
    "        if key == 'KNN': #7\n",
    "            frame = fgbg.getNSamples()\n",
    "        if key == 'CNT': #15\n",
    "            frame = fgbg.getMinPixelStability()\n",
    "        \n",
    "        for i in range(frame):\n",
    "            fgmask = fgbg.apply(img_background)\n",
    "    else:\n",
    "        fgmask = fgbg.apply(img_background)\n",
    "    \n",
    "    fgmask = fgbg.apply(img_src)\n",
    "\n",
    "    # 手法名を描画する\n",
    "    cv2.putText(fgmask, key, (10, 25), cv2.FONT_HERSHEY_SIMPLEX, 1.0, (100, 100, 100), thickness=2)\n",
    "\n",
    "    # 表示\n",
    "    cv2.imshow('frame',fgmask)\n",
    "\n",
    "    # 検出画像\n",
    "    bg_diff_path  = output_dir + '/{}_resoult.jpg'.format(key)\n",
    "    cv2.imwrite(bg_diff_path,fgmask)\n",
    "\n",
    "    cv2.waitKey(0)\n",
    "    cv2.destroyAllWindows()"
   ]
  },
  {
   "cell_type": "markdown",
   "metadata": {},
   "source": [
    "# 動画適用　差分背景"
   ]
  },
  {
   "cell_type": "code",
   "execution_count": 1,
   "metadata": {},
   "outputs": [
    {
     "name": "stdout",
     "output_type": "stream",
     "text": [
      "True\n"
     ]
    }
   ],
   "source": [
    "import cv2\n",
    "import os\n",
    "\n",
    "common_path= \"C:\\\\Users\\\\yukir\\\\workspace\\\\opencv_work\"\n",
    "movie_path = os.path.join(common_path,\"car_person.mp4\")\n",
    "\n",
    "print(os.path.exists(movie_path))\n",
    "\n",
    "cap = cv2.VideoCapture(movie_path)\n",
    "#bgs = cv2.bgsegm.createBackgroundSubtractorLSBP()\n",
    "bgs = cv2.createBackgroundSubtractorKNN()\n",
    "\n",
    "\n",
    "while(cap.isOpened()):\n",
    "    ret, frame = cap.read()\n",
    "    mask = bgs.apply(frame)\n",
    "    bg = bgs.getBackgroundImage()\n",
    "    cv2.imshow('mask', mask)\n",
    "    cv2.imshow('bg', bg)\n",
    "    if cv2.waitKey(1) == ord(\"q\"):\n",
    "        break\n",
    "\n",
    "cap.release()\n",
    "cv2.destroyAllWindows()"
   ]
  },
  {
   "cell_type": "code",
   "execution_count": null,
   "metadata": {},
   "outputs": [],
   "source": []
  }
 ],
 "metadata": {
  "kernelspec": {
   "display_name": "Python 3",
   "language": "python",
   "name": "python3"
  },
  "language_info": {
   "codemirror_mode": {
    "name": "ipython",
    "version": 3
   },
   "file_extension": ".py",
   "mimetype": "text/x-python",
   "name": "python",
   "nbconvert_exporter": "python",
   "pygments_lexer": "ipython3",
   "version": "3.7.7"
  }
 },
 "nbformat": 4,
 "nbformat_minor": 4
}
